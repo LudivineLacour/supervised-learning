{
 "cells": [
  {
   "cell_type": "markdown",
   "metadata": {},
   "source": [
    "# Data Cleaning\n",
    "\n",
    "Source of the dataset: http://insideairbnb.com/get-the-data.html\n",
    "\n",
    "I will be using the detailled dataset of listings because it has many interesting features. \n",
    "- Shape of listings csv is: (65493, 16)\n",
    "- Shape of listings_detailed csv is: (65493, 106)\n",
    "\n",
    "I will use the data scrapped last November (7,November 2019) because the data won't depend on a crisis context.\n",
    "\n",
    "### Required actions:\n",
    "- drop useless columns (with too many text description for example)\n",
    "- check data types and fix columns (43,61,62) that have mixed types\n",
    "- check and fix missing values\n",
    "- check distributions of values\n",
    "- add new calculated columns to simplify the comprehension of data\n",
    "- transform f/t categorical columns to numerical 0/1\n",
    "- check other categorical columns and reduce or transform into numerical data if possible\n",
    "- transform dummies (need to think again about depending on the model I will use)\n",
    "\n",
    "categorical columns to be reduced: property_type, city, guests_included\n",
    "\n",
    "calculated columns: time_since_last_review, time_since_host"
   ]
  },
  {
   "cell_type": "code",
   "execution_count": null,
   "metadata": {},
   "outputs": [],
   "source": [
    "import pandas as pd\n",
    "import numpy as np\n",
    "import matplotlib.pyplot as plt\n",
    "import seaborn as sns\n",
    "pd.set_option('max_columns',106)"
   ]
  },
  {
   "cell_type": "code",
   "execution_count": null,
   "metadata": {},
   "outputs": [],
   "source": [
    "listing_full = pd.read_csv('http://data.insideairbnb.com/france/ile-de-france/paris/2019-11-07/data/listings.csv')\n",
    "print(listing_full.shape)\n",
    "listing_full.head()"
   ]
  },
  {
   "cell_type": "markdown",
   "metadata": {},
   "source": [
    "____________________________________\n",
    "### Drop duplicates\n",
    "\n",
    "Checking duplicates and dropping them just in case"
   ]
  },
  {
   "cell_type": "code",
   "execution_count": null,
   "metadata": {},
   "outputs": [],
   "source": [
    "listing_full.shape"
   ]
  },
  {
   "cell_type": "code",
   "execution_count": null,
   "metadata": {},
   "outputs": [],
   "source": [
    "listing_full = listing_full.drop_duplicates()\n",
    "print(listing_full.shape)"
   ]
  },
  {
   "cell_type": "code",
   "execution_count": null,
   "metadata": {},
   "outputs": [],
   "source": [
    "col_drop = ['id',]"
   ]
  },
  {
   "cell_type": "code",
   "execution_count": null,
   "metadata": {},
   "outputs": [],
   "source": [
    "col_drop.extend(listing_full.iloc[:,1:21].columns)"
   ]
  },
  {
   "cell_type": "code",
   "execution_count": null,
   "metadata": {},
   "outputs": [],
   "source": [
    "col_drop = list(set(col_drop))\n",
    "col_drop"
   ]
  },
  {
   "cell_type": "code",
   "execution_count": null,
   "metadata": {},
   "outputs": [],
   "source": [
    "listing_full.iloc[:,80:].head()"
   ]
  },
  {
   "cell_type": "code",
   "execution_count": null,
   "metadata": {},
   "outputs": [],
   "source": [
    "listing_full = listing_full.drop(columns=col_drop)"
   ]
  },
  {
   "cell_type": "code",
   "execution_count": null,
   "metadata": {},
   "outputs": [],
   "source": [
    "listing_full.shape"
   ]
  },
  {
   "cell_type": "markdown",
   "metadata": {},
   "source": [
    "_________________________\n",
    "### Checking correlation to drop correlated columns and avoid multicollinearity"
   ]
  },
  {
   "cell_type": "code",
   "execution_count": null,
   "metadata": {},
   "outputs": [],
   "source": [
    "# Checking correlation\n",
    "plt.figure(figsize=(17,10))\n",
    "sns.heatmap(listing_full.corr());"
   ]
  },
  {
   "cell_type": "markdown",
   "metadata": {},
   "source": [
    "______________________\n",
    "### Checking and fixing missing values"
   ]
  },
  {
   "cell_type": "code",
   "execution_count": null,
   "metadata": {},
   "outputs": [],
   "source": [
    "null_col = listing_full.isna().sum()\n",
    "round(null_col[null_col>0]/listing_full.shape[0]*100,2)"
   ]
  },
  {
   "cell_type": "code",
   "execution_count": null,
   "metadata": {},
   "outputs": [],
   "source": [
    "col_drop = ['monthly_price']"
   ]
  },
  {
   "cell_type": "code",
   "execution_count": null,
   "metadata": {},
   "outputs": [],
   "source": [
    "# last_review and all reviews related metrics could be easily handle by replacing values with 0 or None "
   ]
  },
  {
   "cell_type": "code",
   "execution_count": null,
   "metadata": {},
   "outputs": [],
   "source": [
    "listing_full.columns"
   ]
  }
 ],
 "metadata": {
  "kernelspec": {
   "display_name": "Python 3",
   "language": "python",
   "name": "python3"
  },
  "language_info": {
   "codemirror_mode": {
    "name": "ipython",
    "version": 3
   },
   "file_extension": ".py",
   "mimetype": "text/x-python",
   "name": "python",
   "nbconvert_exporter": "python",
   "pygments_lexer": "ipython3",
   "version": "3.7.4"
  }
 },
 "nbformat": 4,
 "nbformat_minor": 2
}
