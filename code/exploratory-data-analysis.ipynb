{
 "cells": [
  {
   "cell_type": "markdown",
   "metadata": {},
   "source": [
    "# Exploratory Data Analysis\n",
    "\n",
    "Use of the clean dataset without dummies.\n",
    "\n",
    "- Check the distribution of data and find out how the features relate to each other\n",
    "- Identify outliers\n",
    "- Define assumptions"
   ]
  },
  {
   "cell_type": "code",
   "execution_count": null,
   "metadata": {},
   "outputs": [],
   "source": [
    "import matplotlib.pyplot as plt\n",
    "import seaborn as sns\n",
    "import pandas as pd\n",
    "import numpy as np\n",
    "\n",
    "%matplotlib inline\n",
    "sns.set()\n",
    "\n",
    "pd.set_option('max_columns',71)"
   ]
  },
  {
   "cell_type": "code",
   "execution_count": null,
   "metadata": {},
   "outputs": [],
   "source": [
    "df = pd.read_csv('../data/airbnb_paris_clean.csv')\n",
    "df.head()"
   ]
  },
  {
   "cell_type": "code",
   "execution_count": null,
   "metadata": {},
   "outputs": [],
   "source": [
    "df.describe()"
   ]
  },
  {
   "cell_type": "markdown",
   "metadata": {},
   "source": [
    "**Insights from describe:**\n",
    "\n",
    "- Minority of superhost: less than 25% of hosts are superhost.\n",
    "- Potential outliers on *host_total_listings_count* because of the huge standard deviation and max having 1270 listings (2% of listings own to the same host).\n",
    "- Surprisingly many host doesn't have a verified account less than 50% of hosts are verified.\n",
    "- Majority of location are exact, maybe this column is not really significative and could be dropped. \n",
    "- In average location can have 3 people, more than 50% only 2. We can identify outliers in accommodates with a location that can accept 19 people. \n",
    "- Majority of location have one bathroom and one bedroom which seems correct regarding the average of accommodates. We can also notice outliers with 50 bathrooms and bedrooms which appears to be even unrealistic so maybe wrong data or fake listing. \n",
    "- Some location have a price = 0€ per night which should be impossible. There are also outliers because of the huge standard deviation and the maximum price at 10000€ per night. \n",
    "- Majority of location accept guest for free. Outliers are also identified in these two columns. \n",
    "- Minimum and Maximum nights columns seems to be not so reliable with location having minimum 9999 nights and in average 856 maximum nights. Knowing there is a limitation in France for the number of nights rent per location this could be false data. \n",
    "- In average location are available 80 days per year that seems correct in regard of the local legislation (120 days maximum for primary residency and 365 days for private rooms). \n",
    "- Majority of location have few reviews (less than 20) and we can see some outliers here as well: can we detect listings with fake comments?)\n",
    "- Majority of location are not instant bookable with more than 50% that doesn't allow the feature.\n",
    "- *is_business_travel_ready* seems useless because no locaiton have the feature, we can drop this column. \n",
    "- Most of location doesn't require any verification of guests (picture or phone) so these two columns shouldn't have a huge impact. \n",
    "- *calculated_host_listings_count_private_rooms* and *calculated_host_listings_count_shared_rooms* give that more than 75% of host doesn't have listings in private rooms or shared_rooms so it may tell us something.\n",
    "- Finally, in average host are subcribed on airbnb for 1728 days (4,73 years) and this data seems to be normally distributed. \n",
    "\n",
    "\n",
    "**TLDR;**\n",
    "- Minority of hosts are superhost and get their account verified. Also in average, they are subscribed for more than 4 years on airbnb. \n",
    "- Most of location can receive 2-3 people, with 1 bathroom and 1 bedroom and accept 1 guest for free.\n",
    "- We may drop the following columns: *is_business_travel_ready, is_location_exact, minimum_nights, maximum_nights, require_guest_profile_picture, require_guest_phone_verification*\n",
    "- There are outliers on the dataset and they must be dropped in pre-processing part. \n",
    "- Only the *time_since_host* seems to be normally distributed. "
   ]
  },
  {
   "cell_type": "code",
   "execution_count": null,
   "metadata": {},
   "outputs": [],
   "source": [
    "df1 = df.copy()"
   ]
  },
  {
   "cell_type": "code",
   "execution_count": null,
   "metadata": {},
   "outputs": [],
   "source": [
    "df1 = df1.drop(columns=['is_business_travel_ready', 'is_location_exact', 'minimum_nights', \n",
    "                  'maximum_nights', 'require_guest_profile_picture', 'require_guest_phone_verification'])"
   ]
  },
  {
   "cell_type": "code",
   "execution_count": null,
   "metadata": {},
   "outputs": [],
   "source": [
    "df1.head()"
   ]
  },
  {
   "cell_type": "code",
   "execution_count": null,
   "metadata": {},
   "outputs": [],
   "source": [
    "sns.pairplot(df1, kind=\"scatter\")\n",
    "plt.show()"
   ]
  },
  {
   "cell_type": "code",
   "execution_count": null,
   "metadata": {},
   "outputs": [],
   "source": [
    "df1.groupby('neighbourhood_cleansed')['price'].describe().T"
   ]
  },
  {
   "cell_type": "markdown",
   "metadata": {},
   "source": [
    "________________________________________\n",
    "### Distribution plots"
   ]
  },
  {
   "cell_type": "code",
   "execution_count": null,
   "metadata": {},
   "outputs": [],
   "source": [
    "non_numerical_df = df1[df1.columns[df1.dtypes==object]]\n",
    "\n",
    "plt.subplots(2,4,figsize=(17,6))\n",
    "\n",
    "#for i in range(len(non_numerical_df)):\n",
    "plt.hist(non_numerical_df.iloc[:,0])\n",
    "plt.show()"
   ]
  },
  {
   "cell_type": "markdown",
   "metadata": {},
   "source": [
    "______________________________\n",
    "### Outliers"
   ]
  },
  {
   "cell_type": "code",
   "execution_count": null,
   "metadata": {},
   "outputs": [],
   "source": [
    "plt.figure(figsize=(17,6))\n",
    "sns.boxplot(df2[(df2.price>0)&(df2.price<350)].price)\n",
    "plt.show()"
   ]
  },
  {
   "cell_type": "code",
   "execution_count": null,
   "metadata": {},
   "outputs": [],
   "source": [
    "df2 = df1.copy()"
   ]
  },
  {
   "cell_type": "code",
   "execution_count": null,
   "metadata": {},
   "outputs": [],
   "source": [
    "# dropping outliers based on price\n",
    "\n",
    "df2 = df2[(df2.price>0)&(df2.price<350)]\n",
    "df2.shape"
   ]
  },
  {
   "cell_type": "code",
   "execution_count": null,
   "metadata": {},
   "outputs": [],
   "source": [
    "lst_order = df2.groupby('neighbourhood_cleansed').price.agg('mean').sort_values(ascending=False).index\n",
    "\n",
    "plt.figure(figsize=(17,6))\n",
    "sns.boxplot(x=df2.neighbourhood_cleansed, y=df2.price, order=lst_order)\n",
    "plt.xticks(rotation=60)\n",
    "plt.show()"
   ]
  },
  {
   "cell_type": "code",
   "execution_count": null,
   "metadata": {},
   "outputs": [],
   "source": [
    "# Top 5 most expensive neighbourhood\n",
    "\n",
    "df2.groupby('neighbourhood_cleansed').price.agg('mean').sort_values(ascending=False).head(5)"
   ]
  },
  {
   "cell_type": "code",
   "execution_count": null,
   "metadata": {},
   "outputs": [],
   "source": [
    "# Checking the distribution of plots\n",
    "fig,axs=plt.subplots(5,4,figsize=(17,6))\n",
    "\n",
    "#y = df2.drop('price',axis=1)\n",
    "\n",
    "for i in range(df1.shape[0]):\n",
    "    ax = axs[i//4,i%4]\n",
    "    plt.hist(df1.iloc[:,i], ax=ax);"
   ]
  },
  {
   "cell_type": "code",
   "execution_count": null,
   "metadata": {},
   "outputs": [],
   "source": []
  },
  {
   "cell_type": "code",
   "execution_count": null,
   "metadata": {},
   "outputs": [],
   "source": []
  }
 ],
 "metadata": {
  "kernelspec": {
   "display_name": "Python 3",
   "language": "python",
   "name": "python3"
  },
  "language_info": {
   "codemirror_mode": {
    "name": "ipython",
    "version": 3
   },
   "file_extension": ".py",
   "mimetype": "text/x-python",
   "name": "python",
   "nbconvert_exporter": "python",
   "pygments_lexer": "ipython3",
   "version": "3.7.4"
  }
 },
 "nbformat": 4,
 "nbformat_minor": 2
}
