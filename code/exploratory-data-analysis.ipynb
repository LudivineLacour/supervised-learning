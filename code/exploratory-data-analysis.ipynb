{
 "cells": [
  {
   "cell_type": "markdown",
   "metadata": {},
   "source": [
    "# Exploratory Data Analysis\n",
    "\n",
    "Use of the clean dataset without dummies.\n",
    "\n",
    "- Define assumptions\n",
    "- Check the distribution of data and find out how the features relate to each other\n",
    "- Identify outliers"
   ]
  },
  {
   "cell_type": "code",
   "execution_count": null,
   "metadata": {},
   "outputs": [],
   "source": [
    "import matplotlib.pyplot as plt\n",
    "import seaborn as sns\n",
    "import pandas as pd\n",
    "import numpy as np\n",
    "\n",
    "%matplotlib inline\n",
    "sns.set()\n",
    "\n",
    "pd.set_option('max_columns',71)"
   ]
  },
  {
   "cell_type": "code",
   "execution_count": null,
   "metadata": {},
   "outputs": [],
   "source": [
    "df = pd.read_csv('../data/airbnb_paris_clean.csv')\n",
    "df.head(10)"
   ]
  },
  {
   "cell_type": "code",
   "execution_count": null,
   "metadata": {},
   "outputs": [],
   "source": [
    "df.describe()"
   ]
  },
  {
   "cell_type": "markdown",
   "metadata": {},
   "source": [
    "**Insights from describe:**\n",
    "\n",
    "- Minority of superhost: less than 25% of hosts are superhost.\n",
    "- Potential outliers on *host_total_listings_count* because of the huge standard deviation and max having 1270 listings (2% of listings own to the same host).\n",
    "- Surprisingly many host doesn't have a verified account less than 50% of hosts are verified.\n",
    "- Majority of location are exact, maybe this column is not really significative and could be dropped. \n",
    "- In average location can have 3 people, more than 50% only 2. We can identify outliers in accommodates with a location that can accept 19 people. \n",
    "- Majority of location have one bathroom and one bedroom which seems correct regarding the average of accommodates. We can also notice outliers with 50 bathrooms and bedrooms which appears to be even unrealistic so maybe wrong data or fake listing. \n",
    "- Some location have a price = 0€ per night which should be impossible. There are also outliers because of the huge standard deviation and the maximum price at 10000€ per night. \n",
    "- Majority of location accept guest for free. Outliers are also identified in these two columns. \n",
    "- Minimum and Maximum nights columns seems to be not so reliable with location having minimum 9999 nights and in average 856 maximum nights. Knowing there is a limitation in France for the number of nights rent per location this could be false data. \n",
    "- In average location are available 80 days per year that seems correct in regard of the local legislation (120 days maximum for primary residency and 365 days for private rooms). \n",
    "- Majority of location have few reviews (less than 20) and we can see some outliers here as well: can we detect listings with fake comments?)\n",
    "- Majority of location are not instant bookable with more than 50% that doesn't allow the feature.\n",
    "- *is_business_travel_ready* seems useless because no locaiton have the feature, we can drop this column. \n",
    "- Most of location doesn't require any verification of guests (picture or phone) so these two columns shouldn't have a huge impact. \n",
    "- *calculated_host_listings_count_private_rooms* and *calculated_host_listings_count_shared_rooms* give that more than 75% of host doesn't have listings in private rooms or shared_rooms so it may tell us something.\n",
    "- Finally, in average host are subcribed on airbnb for 1728 days (4,73 years) and this data seems to be normally distributed. \n",
    "\n",
    "\n",
    "**TLDR;**\n",
    "- Minority of hosts are superhost and get their account verified. Also in average, they are subscribed for more than 4 years on airbnb. \n",
    "- Most of location can receive 2-3 people, with 1 bathroom and 1 bedroom and accept 1 guest for free.\n",
    "- We may drop the following columns: *is_business_travel_ready, is_location_exact, minimum_nights, maximum_nights, require_guest_profile_picture, require_guest_phone_verification*\n",
    "- There are outliers on the dataset and they must be dropped in pre-processing part. \n",
    "- Only the *time_since_host* seems to be normally distributed. "
   ]
  },
  {
   "cell_type": "code",
   "execution_count": null,
   "metadata": {},
   "outputs": [],
   "source": [
    "df1 = df.copy()"
   ]
  },
  {
   "cell_type": "code",
   "execution_count": null,
   "metadata": {},
   "outputs": [],
   "source": [
    "df1 = df1.drop(columns=['is_business_travel_ready', 'is_location_exact', 'minimum_nights', \n",
    "                  'maximum_nights', 'require_guest_profile_picture', 'require_guest_phone_verification'])"
   ]
  },
  {
   "cell_type": "code",
   "execution_count": null,
   "metadata": {},
   "outputs": [],
   "source": [
    "df1.head(10)"
   ]
  },
  {
   "cell_type": "code",
   "execution_count": null,
   "metadata": {},
   "outputs": [],
   "source": [
    "# Checking the relation between numerical variables (excluded 0,1 variables)\n",
    "\n",
    "sns.pairplot(df1[['host_total_listings_count','accommodates','bathrooms','bedrooms',\n",
    "                  'price','guests_included','extra_people','availability_365',\n",
    "                  'number_of_reviews','time_since_host']], kind=\"scatter\", diag_kind='kde')\n",
    "plt.show()"
   ]
  },
  {
   "cell_type": "markdown",
   "metadata": {},
   "source": [
    "________________________________________\n",
    "### Distribution plots"
   ]
  },
  {
   "cell_type": "code",
   "execution_count": null,
   "metadata": {},
   "outputs": [],
   "source": [
    "numeric_df = df1[['host_total_listings_count','accommodates','bathrooms','bedrooms',\n",
    "                  'price','guests_included','extra_people','availability_365',\n",
    "                  'number_of_reviews','time_since_host']]\n",
    "\n",
    "fig,axs=plt.subplots(2,5,figsize=(17,8))\n",
    "\n",
    "for i in range(numeric_df.shape[1]):\n",
    "    ax = axs[i//5,i%5]\n",
    "    sns.distplot(numeric_df.iloc[:,i],ax=ax)\n",
    "plt.show()"
   ]
  },
  {
   "cell_type": "code",
   "execution_count": null,
   "metadata": {},
   "outputs": [],
   "source": [
    "non_numerical_df = df1[df1.columns[df1.dtypes==object]]\n",
    "\n",
    "fig, axs = plt.subplots(2,4, figsize=(17,10))\n",
    "\n",
    "for i in range(non_numerical_df.shape[1]):\n",
    "    ax=axs[i//4,i%4]\n",
    "    ax.hist(non_numerical_df.iloc[:,i])\n",
    "    ax.set_title(non_numerical_df.columns[i])\n",
    "    plt.setp(ax.get_xticklabels(), rotation=45, ha=\"right\",\n",
    "         rotation_mode=\"anchor\")\n",
    "\n",
    "fig.delaxes(axs[1,3])   \n",
    "fig.tight_layout()\n",
    "plt.show()"
   ]
  },
  {
   "cell_type": "code",
   "execution_count": null,
   "metadata": {},
   "outputs": [],
   "source": [
    "plt.figure(figsize=(14,6))\n",
    "plt.hist(non_numerical_df.neighbourhood_cleansed, bins=non_numerical_df.neighbourhood_cleansed.nunique())\n",
    "plt.title('Neighborhoods frequency')\n",
    "plt.xticks(rotation=60)\n",
    "plt.show()"
   ]
  },
  {
   "cell_type": "code",
   "execution_count": null,
   "metadata": {},
   "outputs": [],
   "source": [
    "non_numerical_df.neighbourhood_cleansed.nunique()"
   ]
  },
  {
   "cell_type": "markdown",
   "metadata": {},
   "source": [
    "______________________________\n",
    "### Outliers"
   ]
  },
  {
   "cell_type": "code",
   "execution_count": null,
   "metadata": {},
   "outputs": [],
   "source": [
    "df1.groupby('neighbourhood_cleansed')['price'].describe().T"
   ]
  },
  {
   "cell_type": "code",
   "execution_count": null,
   "metadata": {},
   "outputs": [],
   "source": [
    "df2 = df1.copy()"
   ]
  },
  {
   "cell_type": "code",
   "execution_count": null,
   "metadata": {},
   "outputs": [],
   "source": [
    "plt.figure(figsize=(17,6))\n",
    "sns.boxplot(df2[(df2.price>0)&(df2.price<350)].price)\n",
    "plt.show()"
   ]
  },
  {
   "cell_type": "code",
   "execution_count": null,
   "metadata": {},
   "outputs": [],
   "source": [
    "# dropping outliers based on price\n",
    "\n",
    "df2 = df2[(df2.price>0)&(df2.price<350)]\n",
    "df2.shape"
   ]
  },
  {
   "cell_type": "code",
   "execution_count": null,
   "metadata": {},
   "outputs": [],
   "source": [
    "lst_order = df2.groupby('neighbourhood_cleansed').price.agg('mean').sort_values(ascending=False).index\n",
    "\n",
    "plt.figure(figsize=(17,6))\n",
    "sns.boxplot(x=df2.neighbourhood_cleansed, y=df2.price, order=lst_order)\n",
    "plt.xticks(rotation=60)\n",
    "plt.title('Most expensive neighborhoods',fontsize=14)\n",
    "plt.savefig('../img/most_expensive_neighborhoods.png')\n",
    "plt.show()"
   ]
  },
  {
   "cell_type": "code",
   "execution_count": null,
   "metadata": {},
   "outputs": [],
   "source": [
    "# Top 5 most expensive neighbourhood\n",
    "\n",
    "df2.groupby('neighbourhood_cleansed').price.agg('mean').sort_values(ascending=False).head(5)"
   ]
  },
  {
   "cell_type": "code",
   "execution_count": null,
   "metadata": {},
   "outputs": [],
   "source": [
    "# Checking outliers for bathrooms\n",
    "\n",
    "plt.figure(figsize=(17,6))\n",
    "sns.boxplot(df2.bathrooms)\n",
    "plt.show()"
   ]
  },
  {
   "cell_type": "code",
   "execution_count": null,
   "metadata": {},
   "outputs": [],
   "source": [
    "# Dropping all locations with more than 3 bathrooms\n",
    "\n",
    "bath_outliers = df2[df2.bathrooms>3].index\n",
    "df2 = df2.drop(index = bath_outliers)\n",
    "df2.shape"
   ]
  },
  {
   "cell_type": "code",
   "execution_count": null,
   "metadata": {},
   "outputs": [],
   "source": [
    "# Checking outliers for bedrooms\n",
    "\n",
    "plt.figure(figsize=(17,6))\n",
    "sns.boxplot(df2[df2.bedrooms<6].bedrooms)\n",
    "plt.show()"
   ]
  },
  {
   "cell_type": "code",
   "execution_count": null,
   "metadata": {},
   "outputs": [],
   "source": [
    "# Dropping all locations with more than 4 bedrooms\n",
    "\n",
    "bedrooms_outliers = df2[df2.bedrooms>4].index\n",
    "df2 = df2.drop(index = bedrooms_outliers)\n",
    "df2.shape"
   ]
  },
  {
   "cell_type": "code",
   "execution_count": null,
   "metadata": {},
   "outputs": [],
   "source": [
    "# Checking outliers for availability_365\n",
    "\n",
    "plt.figure(figsize=(17,6))\n",
    "sns.boxplot(df2.availability_365)\n",
    "plt.show()\n",
    "\n",
    "# ==> availability_365 = 0 would mean that this location all always booked and it can be the case in real life"
   ]
  },
  {
   "cell_type": "code",
   "execution_count": null,
   "metadata": {},
   "outputs": [],
   "source": [
    "df2[df2.availability_365>300]"
   ]
  },
  {
   "cell_type": "code",
   "execution_count": null,
   "metadata": {},
   "outputs": [],
   "source": [
    "# Checking outliers for accommodates\n",
    "\n",
    "plt.figure(figsize=(17,6))\n",
    "sns.boxplot(df2.accommodates)\n",
    "plt.show()"
   ]
  },
  {
   "cell_type": "code",
   "execution_count": null,
   "metadata": {},
   "outputs": [],
   "source": [
    "df2[df2.accommodates>10]\n",
    "\n",
    "# Location with more than 10 accommodates seems to have realistic data in regards of \n",
    "# number of bathrooms and price"
   ]
  },
  {
   "cell_type": "code",
   "execution_count": null,
   "metadata": {},
   "outputs": [],
   "source": [
    "# Checking outliers for host_total_listings_count\n",
    "\n",
    "\"\"\" \n",
    "This column doesn't seems releveant because majority of people have only 1 listing.\n",
    "Also, people with 0 listing means there is something wrong with the data. \n",
    "\"\"\"\n",
    "\n",
    "plt.figure(figsize=(17,6))\n",
    "sns.boxplot(df2[df2.host_total_listings_count<20].host_total_listings_count)\n",
    "plt.show()"
   ]
  },
  {
   "cell_type": "code",
   "execution_count": null,
   "metadata": {},
   "outputs": [],
   "source": [
    "df2[df2.host_total_listings_count==0]"
   ]
  },
  {
   "cell_type": "code",
   "execution_count": null,
   "metadata": {},
   "outputs": [],
   "source": [
    "# Dropping this column because it seems pointless to keep\n",
    "\n",
    "df2 = df2.drop('host_total_listings_count',axis=1)\n",
    "df2.shape"
   ]
  },
  {
   "cell_type": "code",
   "execution_count": null,
   "metadata": {},
   "outputs": [],
   "source": [
    "numeric_df = df2[['accommodates','bathrooms','bedrooms',\n",
    "                  'price','guests_included','extra_people','availability_365',\n",
    "                  'number_of_reviews','time_since_host']]\n",
    "\n",
    "fig,axs=plt.subplots(2,5,figsize=(17,8))\n",
    "\n",
    "for i in range(numeric_df.shape[1]):\n",
    "    ax = axs[i//5,i%5]\n",
    "    sns.distplot(numeric_df.iloc[:,i],ax=ax)\n",
    "    \n",
    "fig.delaxes(axs[1,4])\n",
    "plt.show()"
   ]
  },
  {
   "cell_type": "markdown",
   "metadata": {},
   "source": [
    "____________________________________\n",
    "### Saving new dataframe"
   ]
  },
  {
   "cell_type": "code",
   "execution_count": null,
   "metadata": {},
   "outputs": [],
   "source": [
    "# Saving csv without dummies\n",
    "\n",
    "df2.to_csv('../data/airbnb_paris_clean_wo_dummies.csv',index=False)"
   ]
  },
  {
   "cell_type": "code",
   "execution_count": null,
   "metadata": {},
   "outputs": [],
   "source": [
    "# Getting Dummies for feature engineering\n",
    "df3 = df2.copy()\n",
    "df3 = pd.get_dummies(df3,drop_first=True)\n",
    "df3.shape"
   ]
  },
  {
   "cell_type": "code",
   "execution_count": null,
   "metadata": {},
   "outputs": [],
   "source": [
    "# Saving the csv with dummies\n",
    "\n",
    "df3.to_csv('../data/airbnb_paris_clean_dummies.csv',index=False)"
   ]
  },
  {
   "cell_type": "markdown",
   "metadata": {},
   "source": [
    "### Possible improvements \n",
    "\n",
    "- Compare each feature with the price (regplot)\n",
    "- Other analysis\n",
    "- More precise outlier cleaning by using z-score or IQR"
   ]
  },
  {
   "cell_type": "code",
   "execution_count": null,
   "metadata": {},
   "outputs": [],
   "source": []
  }
 ],
 "metadata": {
  "kernelspec": {
   "display_name": "Python 3",
   "language": "python",
   "name": "python3"
  },
  "language_info": {
   "codemirror_mode": {
    "name": "ipython",
    "version": 3
   },
   "file_extension": ".py",
   "mimetype": "text/x-python",
   "name": "python",
   "nbconvert_exporter": "python",
   "pygments_lexer": "ipython3",
   "version": "3.7.4"
  }
 },
 "nbformat": 4,
 "nbformat_minor": 2
}
