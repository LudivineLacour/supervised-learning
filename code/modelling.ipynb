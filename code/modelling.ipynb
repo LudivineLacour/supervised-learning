{
 "cells": [
  {
   "cell_type": "markdown",
   "metadata": {},
   "source": [
    "# Modelling using supervised-learning\n",
    "\n",
    "The end goal is to predict the price per night of a airbnb location depending on several features. \n",
    "\n",
    "We will use the dataset cleaned and preprocessed for modelling (scaling and RFE feature engineering methods). \n",
    "\n",
    "Models to build and compare:\n",
    "- Linear Regression\n",
    "- KNN\n",
    "- RandomForest\n",
    "\n",
    "**Steps:**\n",
    "- Build train/test sample data \n",
    "- Build models\n",
    "- Get evaluation metrics for each models\n",
    "- Compare them"
   ]
  },
  {
   "cell_type": "code",
   "execution_count": 1,
   "metadata": {},
   "outputs": [
    {
     "name": "stderr",
     "output_type": "stream",
     "text": [
      "/opt/anaconda3/lib/python3.7/site-packages/statsmodels/tools/_testing.py:19: FutureWarning: pandas.util.testing is deprecated. Use the functions in the public API at pandas.testing instead.\n",
      "  import pandas.util.testing as tm\n"
     ]
    }
   ],
   "source": [
    "import matplotlib.pyplot as plt\n",
    "import seaborn as sns\n",
    "import pandas as pd\n",
    "import numpy as np\n",
    "\n",
    "%matplotlib inline\n",
    "sns.set()"
   ]
  },
  {
   "cell_type": "code",
   "execution_count": 2,
   "metadata": {},
   "outputs": [
    {
     "name": "stdout",
     "output_type": "stream",
     "text": [
      "(62799, 21)\n"
     ]
    },
    {
     "data": {
      "text/html": [
       "<div>\n",
       "<style scoped>\n",
       "    .dataframe tbody tr th:only-of-type {\n",
       "        vertical-align: middle;\n",
       "    }\n",
       "\n",
       "    .dataframe tbody tr th {\n",
       "        vertical-align: top;\n",
       "    }\n",
       "\n",
       "    .dataframe thead th {\n",
       "        text-align: right;\n",
       "    }\n",
       "</style>\n",
       "<table border=\"1\" class=\"dataframe\">\n",
       "  <thead>\n",
       "    <tr style=\"text-align: right;\">\n",
       "      <th></th>\n",
       "      <th>accommodates</th>\n",
       "      <th>bathrooms</th>\n",
       "      <th>bedrooms</th>\n",
       "      <th>guests_included</th>\n",
       "      <th>availability_365</th>\n",
       "      <th>number_of_reviews</th>\n",
       "      <th>neighbourhood_cleansed_Bourse</th>\n",
       "      <th>neighbourhood_cleansed_Hôtel-de-Ville</th>\n",
       "      <th>neighbourhood_cleansed_Louvre</th>\n",
       "      <th>neighbourhood_cleansed_Luxembourg</th>\n",
       "      <th>...</th>\n",
       "      <th>neighbourhood_cleansed_Panthéon</th>\n",
       "      <th>neighbourhood_cleansed_Passy</th>\n",
       "      <th>neighbourhood_cleansed_Temple</th>\n",
       "      <th>neighbourhood_cleansed_Élysée</th>\n",
       "      <th>property_type_Hotel</th>\n",
       "      <th>property_type_Serviced apartment</th>\n",
       "      <th>room_type_Private room</th>\n",
       "      <th>room_type_Shared room</th>\n",
       "      <th>cancellation_policy_super_strict_30</th>\n",
       "      <th>price</th>\n",
       "    </tr>\n",
       "  </thead>\n",
       "  <tbody>\n",
       "    <tr>\n",
       "      <th>0</th>\n",
       "      <td>0.466667</td>\n",
       "      <td>0.666667</td>\n",
       "      <td>0.75</td>\n",
       "      <td>0.333333</td>\n",
       "      <td>0.778082</td>\n",
       "      <td>0.034360</td>\n",
       "      <td>1</td>\n",
       "      <td>0</td>\n",
       "      <td>0</td>\n",
       "      <td>0</td>\n",
       "      <td>...</td>\n",
       "      <td>0</td>\n",
       "      <td>0</td>\n",
       "      <td>0</td>\n",
       "      <td>0</td>\n",
       "      <td>0</td>\n",
       "      <td>0</td>\n",
       "      <td>0</td>\n",
       "      <td>0</td>\n",
       "      <td>0</td>\n",
       "      <td>2.56</td>\n",
       "    </tr>\n",
       "    <tr>\n",
       "      <th>1</th>\n",
       "      <td>0.133333</td>\n",
       "      <td>0.333333</td>\n",
       "      <td>0.25</td>\n",
       "      <td>0.000000</td>\n",
       "      <td>0.013699</td>\n",
       "      <td>0.017773</td>\n",
       "      <td>0</td>\n",
       "      <td>0</td>\n",
       "      <td>0</td>\n",
       "      <td>0</td>\n",
       "      <td>...</td>\n",
       "      <td>0</td>\n",
       "      <td>0</td>\n",
       "      <td>1</td>\n",
       "      <td>0</td>\n",
       "      <td>0</td>\n",
       "      <td>0</td>\n",
       "      <td>0</td>\n",
       "      <td>0</td>\n",
       "      <td>0</td>\n",
       "      <td>0.85</td>\n",
       "    </tr>\n",
       "    <tr>\n",
       "      <th>2</th>\n",
       "      <td>0.200000</td>\n",
       "      <td>0.333333</td>\n",
       "      <td>0.25</td>\n",
       "      <td>0.000000</td>\n",
       "      <td>0.934247</td>\n",
       "      <td>0.000000</td>\n",
       "      <td>1</td>\n",
       "      <td>0</td>\n",
       "      <td>0</td>\n",
       "      <td>0</td>\n",
       "      <td>...</td>\n",
       "      <td>0</td>\n",
       "      <td>0</td>\n",
       "      <td>0</td>\n",
       "      <td>0</td>\n",
       "      <td>0</td>\n",
       "      <td>0</td>\n",
       "      <td>0</td>\n",
       "      <td>0</td>\n",
       "      <td>0</td>\n",
       "      <td>0.88</td>\n",
       "    </tr>\n",
       "    <tr>\n",
       "      <th>3</th>\n",
       "      <td>0.066667</td>\n",
       "      <td>0.333333</td>\n",
       "      <td>0.25</td>\n",
       "      <td>0.000000</td>\n",
       "      <td>0.084932</td>\n",
       "      <td>0.000000</td>\n",
       "      <td>0</td>\n",
       "      <td>0</td>\n",
       "      <td>0</td>\n",
       "      <td>0</td>\n",
       "      <td>...</td>\n",
       "      <td>0</td>\n",
       "      <td>0</td>\n",
       "      <td>0</td>\n",
       "      <td>0</td>\n",
       "      <td>0</td>\n",
       "      <td>0</td>\n",
       "      <td>0</td>\n",
       "      <td>0</td>\n",
       "      <td>0</td>\n",
       "      <td>0.92</td>\n",
       "    </tr>\n",
       "    <tr>\n",
       "      <th>4</th>\n",
       "      <td>0.066667</td>\n",
       "      <td>0.333333</td>\n",
       "      <td>0.00</td>\n",
       "      <td>0.000000</td>\n",
       "      <td>0.854795</td>\n",
       "      <td>0.004739</td>\n",
       "      <td>0</td>\n",
       "      <td>0</td>\n",
       "      <td>0</td>\n",
       "      <td>0</td>\n",
       "      <td>...</td>\n",
       "      <td>0</td>\n",
       "      <td>0</td>\n",
       "      <td>0</td>\n",
       "      <td>0</td>\n",
       "      <td>0</td>\n",
       "      <td>0</td>\n",
       "      <td>0</td>\n",
       "      <td>0</td>\n",
       "      <td>0</td>\n",
       "      <td>0.85</td>\n",
       "    </tr>\n",
       "  </tbody>\n",
       "</table>\n",
       "<p>5 rows × 21 columns</p>\n",
       "</div>"
      ],
      "text/plain": [
       "   accommodates  bathrooms  bedrooms  guests_included  availability_365  \\\n",
       "0      0.466667   0.666667      0.75         0.333333          0.778082   \n",
       "1      0.133333   0.333333      0.25         0.000000          0.013699   \n",
       "2      0.200000   0.333333      0.25         0.000000          0.934247   \n",
       "3      0.066667   0.333333      0.25         0.000000          0.084932   \n",
       "4      0.066667   0.333333      0.00         0.000000          0.854795   \n",
       "\n",
       "   number_of_reviews  neighbourhood_cleansed_Bourse  \\\n",
       "0           0.034360                              1   \n",
       "1           0.017773                              0   \n",
       "2           0.000000                              1   \n",
       "3           0.000000                              0   \n",
       "4           0.004739                              0   \n",
       "\n",
       "   neighbourhood_cleansed_Hôtel-de-Ville  neighbourhood_cleansed_Louvre  \\\n",
       "0                                      0                              0   \n",
       "1                                      0                              0   \n",
       "2                                      0                              0   \n",
       "3                                      0                              0   \n",
       "4                                      0                              0   \n",
       "\n",
       "   neighbourhood_cleansed_Luxembourg  ...  neighbourhood_cleansed_Panthéon  \\\n",
       "0                                  0  ...                                0   \n",
       "1                                  0  ...                                0   \n",
       "2                                  0  ...                                0   \n",
       "3                                  0  ...                                0   \n",
       "4                                  0  ...                                0   \n",
       "\n",
       "   neighbourhood_cleansed_Passy  neighbourhood_cleansed_Temple  \\\n",
       "0                             0                              0   \n",
       "1                             0                              1   \n",
       "2                             0                              0   \n",
       "3                             0                              0   \n",
       "4                             0                              0   \n",
       "\n",
       "   neighbourhood_cleansed_Élysée  property_type_Hotel  \\\n",
       "0                              0                    0   \n",
       "1                              0                    0   \n",
       "2                              0                    0   \n",
       "3                              0                    0   \n",
       "4                              0                    0   \n",
       "\n",
       "   property_type_Serviced apartment  room_type_Private room  \\\n",
       "0                                 0                       0   \n",
       "1                                 0                       0   \n",
       "2                                 0                       0   \n",
       "3                                 0                       0   \n",
       "4                                 0                       0   \n",
       "\n",
       "   room_type_Shared room  cancellation_policy_super_strict_30  price  \n",
       "0                      0                                    0   2.56  \n",
       "1                      0                                    0   0.85  \n",
       "2                      0                                    0   0.88  \n",
       "3                      0                                    0   0.92  \n",
       "4                      0                                    0   0.85  \n",
       "\n",
       "[5 rows x 21 columns]"
      ]
     },
     "execution_count": 2,
     "metadata": {},
     "output_type": "execute_result"
    }
   ],
   "source": [
    "df = pd.read_csv('../data/airbnb_paris_clean_RFE.csv')\n",
    "print(df.shape)\n",
    "df.head()"
   ]
  },
  {
   "cell_type": "markdown",
   "metadata": {},
   "source": [
    "__________________\n",
    "### Models set-up & train/test sampling"
   ]
  },
  {
   "cell_type": "code",
   "execution_count": 3,
   "metadata": {},
   "outputs": [],
   "source": [
    "from sklearn.linear_model import LinearRegression\n",
    "from sklearn.neighbors import KNeighborsRegressor\n",
    "from sklearn.ensemble import RandomForestRegressor\n",
    "from sklearn.metrics import r2_score \n",
    "from sklearn.model_selection import train_test_split\n",
    "from sklearn.metrics import mean_squared_error\n",
    "from sklearn.metrics import mean_squared_log_error\n",
    "from sklearn.metrics import explained_variance_score\n",
    "from sklearn import preprocessing"
   ]
  },
  {
   "cell_type": "code",
   "execution_count": 4,
   "metadata": {},
   "outputs": [],
   "source": [
    "def mape(y_true,y_pred):\n",
    "    if y_true.any() == 0:\n",
    "        return \"dividing by 0 is impossible\"\n",
    "    else:\n",
    "        return np.mean(np.abs((y_true-y_pred)/y_pred))*100"
   ]
  },
  {
   "cell_type": "code",
   "execution_count": 5,
   "metadata": {},
   "outputs": [
    {
     "name": "stdout",
     "output_type": "stream",
     "text": [
      "(43959, 20) (43959,)\n"
     ]
    }
   ],
   "source": [
    "X = df.drop('price', axis=1)\n",
    "y = df.price\n",
    "\n",
    "X_train, X_test, y_train, y_test = train_test_split(X, y, test_size=0.3, random_state=8)\n",
    "\n",
    "# Creating several samples to test overfitting of models\n",
    "X_train_2, X_test_2, y_train_2, y_test_2 = train_test_split(X, y, test_size=0.3, random_state=15)\n",
    "X_train_3, X_test_3, y_train_3, y_test_3 = train_test_split(X, y, test_size=0.3, random_state=42)\n",
    "\n",
    "print(X_train.shape, y_train.shape)"
   ]
  },
  {
   "cell_type": "markdown",
   "metadata": {},
   "source": [
    "_________________\n",
    "### Linear Regression"
   ]
  },
  {
   "cell_type": "code",
   "execution_count": 7,
   "metadata": {},
   "outputs": [
    {
     "name": "stdout",
     "output_type": "stream",
     "text": [
      "R^2 score for X_train: 0.515151627837205 \n",
      "\n",
      "R^2 score for X_test: 0.5229495511758965\n",
      "MSE: 0.15175224615174185\n",
      "RMSE: 0.38955390660567357\n",
      "MAPE: 29.355391768066003\n"
     ]
    }
   ],
   "source": [
    "# building the model\n",
    "model_lin = LinearRegression()\n",
    "model_lin.fit(X_train, y_train)\n",
    "print('R^2 score for X_train:', model_lin.score(X_train, y_train),'\\n')\n",
    "\n",
    "# predicting values\n",
    "y_pred_lin = model_lin.predict(X_test)\n",
    "\n",
    "# checking evaluation metrics\n",
    "print('R^2 score for X_test:',r2_score(y_test,y_pred_lin))\n",
    "print('MSE:', mean_squared_error(y_test,y_pred_lin))\n",
    "print('RMSE:', mean_squared_error(y_test,y_pred_lin, squared=False))\n",
    "print('MAPE:',mape(y_test,y_pred_lin))\n",
    "\n",
    "# Can't use RMSLE because of negavite predicted values\n",
    "# print('RMSLE:',(mean_squared_log_error(y_test,abs(y_pred_lin))**0.5),'\\n')\n"
   ]
  },
  {
   "cell_type": "code",
   "execution_count": 14,
   "metadata": {},
   "outputs": [
    {
     "name": "stdout",
     "output_type": "stream",
     "text": [
      "R^2 score for X_test: 0.5229495511758966\n",
      "MSE: 1517.5224615174184\n",
      "RMSE: 38.95539066056735\n",
      "MAPE: 29.355391768065996\n"
     ]
    }
   ],
   "source": [
    "unscaled_y = y_test*100\n",
    "unscaled_y_pred = y_pred_lin*100\n",
    "\n",
    "# checking evaluation metrics\n",
    "print('R^2 score for X_test:',r2_score(unscaled_y,unscaled_y_pred))\n",
    "print('MSE:', mean_squared_error(unscaled_y,unscaled_y_pred))\n",
    "print('RMSE:', mean_squared_error(unscaled_y,unscaled_y_pred, squared=False))\n",
    "print('MAPE:',mape(unscaled_y,unscaled_y_pred))"
   ]
  },
  {
   "cell_type": "code",
   "execution_count": 8,
   "metadata": {},
   "outputs": [
    {
     "data": {
      "text/plain": [
       "array([-0.00426348, -0.07280805, -0.16111656])"
      ]
     },
     "execution_count": 8,
     "metadata": {},
     "output_type": "execute_result"
    }
   ],
   "source": [
    "y_pred_lin[y_pred_lin<0]"
   ]
  },
  {
   "cell_type": "code",
   "execution_count": 9,
   "metadata": {},
   "outputs": [
    {
     "data": {
      "image/png": "[encoded data removed]",
      "text/plain": [
       "<Figure size 432x288 with 1 Axes>"
      ]
     },
     "metadata": {
      "needs_background": "light"
     },
     "output_type": "display_data"
    },
    {
     "data": {
      "image/png": "[encoded data removed]",
      "text/plain": [
       "<Figure size 432x288 with 1 Axes>"
      ]
     },
     "metadata": {
      "needs_background": "light"
     },
     "output_type": "display_data"
    }
   ],
   "source": [
    "# Checking predictions\n",
    "plt.scatter(y_test,y_pred_lin)\n",
    "plt.title('Prediction Linearity')\n",
    "plt.show()\n",
    "\n",
    "# Checking residuals\n",
    "resid=y_test-y_pred_lin\n",
    "\n",
    "sns.distplot(resid)\n",
    "plt.title('Distribution of residuals')\n",
    "plt.show()"
   ]
  },
  {
   "cell_type": "markdown",
   "metadata": {},
   "source": [
    "___________________\n",
    "### KNN"
   ]
  },
  {
   "cell_type": "code",
   "execution_count": 11,
   "metadata": {},
   "outputs": [
    {
     "name": "stdout",
     "output_type": "stream",
     "text": [
      "R^2 score for X_train: 0.6606704737540453 \n",
      "\n",
      "R^2 score for X_test: 0.4225318758213155\n",
      "MSE: 0.18369563458362823\n",
      "RMSE: 0.42859728718650125\n",
      "MAPE: 31.7745579192313\n",
      "RMSLE: 0.19035141168818304 \n",
      "\n",
      "R^2 score for X_train: 0.6434921863840963 \n",
      "\n",
      "R^2 score for X_test: 0.4128322345861189\n",
      "MSE: 0.1819606587638594\n",
      "RMSE: 0.42656846902210127\n",
      "MAPE: 31.531480285582482\n",
      "RMSLE: 0.19138563496854147 \n",
      "\n",
      "R^2 score for X_train: 0.6604349652220819 \n",
      "\n",
      "R^2 score for X_test: 0.4247790373643759\n",
      "MSE: 0.18245019698041992\n",
      "RMSE: 0.4271418932631403\n",
      "MAPE: 32.229972902831456\n",
      "RMSLE: 0.19122368844224832 \n",
      "\n"
     ]
    }
   ],
   "source": [
    "# building model\n",
    "model_knn = KNeighborsRegressor(n_neighbors=3)\n",
    "model_knn.fit(X_train, y_train)\n",
    "print(\"Sample 1: X_train, X_test\")\n",
    "print('R^2 score for X_train:', model_knn.score(X_train, y_train),'\\n')\n",
    "\n",
    "# predicting values\n",
    "y_pred_knn = model_knn.predict(X_test)\n",
    "\n",
    "# checking evaluation metrics\n",
    "print('R^2 score for X_test:', model_knn.score(X_test, y_test))\n",
    "print('MSE:', mean_squared_error(y_test,y_pred_knn))\n",
    "print('RMSE:', mean_squared_error(y_test,y_pred_knn, squared=False))\n",
    "print('MAPE:',mape(y_test,y_pred_knn))\n",
    "print('RMSLE:',(mean_squared_log_error(y_test, y_pred_knn)**0.5),'\\n')\n",
    "\n",
    "\n",
    "## Testing with other samples\n",
    "\n",
    "# building model\n",
    "model_knn_2 = KNeighborsRegressor(n_neighbors=3)\n",
    "model_knn_2.fit(X_train_2, y_train_2)\n",
    "print(\"Sample 2: X_train_2, X_test_2\")\n",
    "print('R^2 score for X_train:', model_knn_2.score(X_train_2, y_train_2),'\\n')\n",
    "\n",
    "# predicting values\n",
    "y_pred_knn_2 = model_knn_2.predict(X_test_2)\n",
    "\n",
    "# checking evaluation metrics\n",
    "print('R^2 score for X_test:', model_knn_2.score(X_test_2, y_test_2))\n",
    "print('MSE:', mean_squared_error(y_test_2,y_pred_knn_2))\n",
    "print('RMSE:', mean_squared_error(y_test_2,y_pred_knn_2, squared=False))\n",
    "print('MAPE:',mape(y_test_2,y_pred_knn_2))\n",
    "print('RMSLE:',(mean_squared_log_error(y_test_2, y_pred_knn_2)**0.5),'\\n')\n",
    "\n",
    "\n",
    "## Testing with other samples\n",
    "\n",
    "# building model\n",
    "model_knn_3 = KNeighborsRegressor(n_neighbors=3)\n",
    "model_knn_3.fit(X_train_3, y_train_3)\n",
    "print(\"Sample 3: X_train_3, X_test_3\")\n",
    "print('R^2 score for X_train:', model_knn_3.score(X_train_3, y_train_3),'\\n')\n",
    "\n",
    "# predicting values\n",
    "y_pred_knn_3 = model_knn_3.predict(X_test_3)\n",
    "\n",
    "# checking evaluation metrics\n",
    "print('R^2 score for X_test:', model_knn_3.score(X_test_3, y_test_3))\n",
    "print('MSE:', mean_squared_error(y_test_3,y_pred_knn_3))\n",
    "print('RMSE:', mean_squared_error(y_test_3,y_pred_knn_3, squared=False))\n",
    "print('MAPE:',mape(y_test_3,y_pred_knn_3))\n",
    "print('RMSLE:',(mean_squared_log_error(y_test_3, y_pred_knn_3)**0.5),'\\n')"
   ]
  },
  {
   "cell_type": "code",
   "execution_count": 12,
   "metadata": {},
   "outputs": [
    {
     "name": "stdout",
     "output_type": "stream",
     "text": [
      "R^2 score for X_train: 0.6606704737540453 \n",
      "\n",
      "R^2 score for X_test: 0.4225318758213155\n",
      "MSE: 0.18369563458362823\n",
      "RMSE: 0.42859728718650125\n",
      "MAPE: 31.7745579192313\n",
      "RMSLE: 0.19035141168818304 \n",
      "\n",
      "R^2 score for X_train: 0.6249767812276004 \n",
      "\n",
      "R^2 score for X_test: 0.4800926870872267\n",
      "MSE: 0.16538523906581742\n",
      "RMSE: 0.4066758402780001\n",
      "MAPE: 30.137256802414704\n",
      "RMSLE: 0.1805697390885791 \n",
      "\n",
      "R^2 score for X_train: 0.604636286388994 \n",
      "\n",
      "R^2 score for X_test: 0.49879525099220046\n",
      "MSE: 0.15943585553966808\n",
      "RMSE: 0.3992941967267594\n",
      "MAPE: 29.423619808922002\n",
      "RMSLE: 0.17694062073361458 \n",
      "\n",
      "R^2 score for X_train: 0.5948007574734312 \n",
      "\n",
      "R^2 score for X_test: 0.5098455536961135\n",
      "MSE: 0.15592069637755235\n",
      "RMSE: 0.39486794802509906\n",
      "MAPE: 29.036592801020234\n",
      "RMSLE: 0.17479571105819927 \n",
      "\n",
      "R^2 score for X_train: 0.5860352337329635 \n",
      "\n",
      "R^2 score for X_test: 0.5187578644419701\n",
      "MSE: 0.1530856436542612\n",
      "RMSE: 0.391261605136846\n",
      "MAPE: 28.70410769836944\n",
      "RMSLE: 0.17292382981070958 \n",
      "\n",
      "R^2 score for X_train: 0.5799764535082501 \n",
      "\n",
      "R^2 score for X_test: 0.5224152364162855\n",
      "MSE: 0.15192221447505622\n",
      "RMSE: 0.38977200319552996\n",
      "MAPE: 28.494785535598595\n",
      "RMSLE: 0.17227821132544835 \n",
      "\n",
      "R^2 score for X_train: 0.574808944899366 \n",
      "\n",
      "R^2 score for X_test: 0.5256934075664874\n",
      "MSE: 0.15087941106393019\n",
      "RMSE: 0.38843199026847697\n",
      "MAPE: 28.384399381943187\n",
      "RMSLE: 0.17155149948976608 \n",
      "\n",
      "R^2 score for X_train: 0.5705205553960639 \n",
      "\n",
      "R^2 score for X_test: 0.5281860577143086\n",
      "MSE: 0.15008648599754626\n",
      "RMSE: 0.3874099714740784\n",
      "MAPE: 28.275290820477135\n",
      "RMSLE: 0.17110093412213576 \n",
      "\n",
      "R^2 score for X_train: 0.5672216091286596 \n",
      "\n",
      "R^2 score for X_test: 0.5307085905738224\n",
      "MSE: 0.14928405508407291\n",
      "RMSE: 0.3863729481784056\n",
      "MAPE: 28.181757016097052\n",
      "RMSLE: 0.17046005793567967 \n",
      "\n"
     ]
    }
   ],
   "source": [
    "# Creating a for loop to find the best n_neighbors [WARNING BEFORE RUNNING - IT TAKES TIME]\n",
    "\n",
    "r_score_train = [] # Storing results in list\n",
    "r_score_test = []\n",
    "rmse_test = []\n",
    "\n",
    "for i in range(3,21,2):\n",
    "    # building model\n",
    "    model_knn = KNeighborsRegressor(n_neighbors=i)\n",
    "    model_knn.fit(X_train, y_train)\n",
    "    print('Number of neighbors:',i)\n",
    "    print('R^2 score for X_train:', model_knn.score(X_train, y_train),'\\n')\n",
    "    r_score_train.append(model_knn.score(X_train, y_train))\n",
    "    \n",
    "    # predicting values\n",
    "    y_pred_knn = model_knn.predict(X_test)\n",
    "\n",
    "    # checking evaluation metrics\n",
    "    r_score_test.append(model_knn.score(X_test, y_test))\n",
    "    print('R^2 score for X_test:', model_knn.score(X_test, y_test))\n",
    "    print('MSE:', mean_squared_error(y_test,y_pred_knn))\n",
    "    rmse_test.append(mean_squared_error(y_test,y_pred_knn, squared=False))\n",
    "    print('RMSE:', mean_squared_error(y_test,y_pred_knn, squared=False))\n",
    "    print('MAPE:',mape(y_test,y_pred_knn))\n",
    "    print('RMSLE:',(mean_squared_log_error(y_test, y_pred_knn)**0.5),'\\n')"
   ]
  },
  {
   "cell_type": "code",
   "execution_count": 22,
   "metadata": {},
   "outputs": [
    {
     "data": {
      "image/png": "[encoded data removed]",
      "text/plain": [
       "<Figure size 1008x360 with 2 Axes>"
      ]
     },
     "metadata": {
      "needs_background": "light"
     },
     "output_type": "display_data"
    }
   ],
   "source": [
    "# Drawing graph to show the result model performance depending on the number neighbors\n",
    "\n",
    "nb_neighbors = list(range(3,21,2))\n",
    "\n",
    "fig, ax1 = plt.subplots(figsize=(14,5))\n",
    "\n",
    "color = 'tab:red'\n",
    "ax1.plot(nb_neighbors, r_score_test, linestyle='-', marker='o', color=color)\n",
    "ax1.set_xlabel('Number of neighbors')\n",
    "ax1.set_ylabel('R^2 Score', color=color)\n",
    "ax1.tick_params(axis='y', labelcolor=color)\n",
    "\n",
    "#y0, y1 = ax1.get_ylim()\n",
    "#ax1.vlines(x=23,ymin=y0,ymax=y1, linestyle='dashed', label='Best Shape = [20,23]')\n",
    "#ax1.vlines(x=20,ymin=y0,ymax=y1, linestyle='dashed')\n",
    "#ax1.legend()\n",
    "\n",
    "ax2 = ax1.twinx()  # instantiate a second axes that shares the same x-axis\n",
    "\n",
    "color = 'tab:blue'\n",
    "ax2.set_ylabel('RMSE', color=color)\n",
    "ax2.plot(nb_neighbors, rmse_test, linestyle='-', marker='o', color=color)\n",
    "ax2.tick_params(axis='y', labelcolor=color)\n",
    "\n",
    "fig.suptitle('KNN Model performance depending on neighbors', fontsize=14)\n",
    "plt.savefig('../img/KNN_model_performance.png')\n",
    "plt.show()"
   ]
  },
  {
   "cell_type": "code",
   "execution_count": 24,
   "metadata": {},
   "outputs": [
    {
     "data": {
      "image/png": "[encoded data removed]",
      "text/plain": [
       "<Figure size 432x288 with 1 Axes>"
      ]
     },
     "metadata": {
      "needs_background": "light"
     },
     "output_type": "display_data"
    }
   ],
   "source": [
    "# Creating another visualization to show the overfitting effect \n",
    "\n",
    "plt.plot(nb_neighbors, r_score_train, color='tab:red', label='r_score X_train')\n",
    "plt.plot(nb_neighbors, r_score_test, color='tab:blue', label='r_score X_test')\n",
    "plt.xlabel('Number of neighbors')\n",
    "plt.ylabel('R^2 score')\n",
    "plt.title('Comparision of R^2 score for Train and Test samples', fontsize=14)\n",
    "plt.legend()\n",
    "plt.savefig('../img/comparison_rscore_KNN.png')\n",
    "plt.show()"
   ]
  },
  {
   "cell_type": "code",
   "execution_count": 28,
   "metadata": {},
   "outputs": [
    {
     "name": "stdout",
     "output_type": "stream",
     "text": [
      "R^2 score for X_train: 0.5672216091286596 \n",
      "\n",
      "R^2 score for X_test: 0.5307085905738224\n",
      "MSE: 0.14928405508407291\n",
      "RMSE: 0.3863729481784056\n",
      "MAPE: 28.181757016097052\n",
      "RMSLE: 0.17046005793567967 \n",
      "\n",
      "R^2 score for X_train with weighted distance: 0.8803435834378053 \n",
      "\n",
      "R^2 score for X_test with weighted distance: 0.49823217461399055\n",
      "MSE: 0.15961497308448738\n",
      "RMSE: 0.3995184264642713\n",
      "MAPE: 29.306470336081542\n",
      "RMSLE: 0.1768163621517934 \n",
      "\n"
     ]
    }
   ],
   "source": [
    "# Rebuilding the best model\n",
    "\n",
    "model_knn = KNeighborsRegressor(n_neighbors=19)\n",
    "model_knn.fit(X_train, y_train)\n",
    "print('R^2 score for X_train:', model_knn.score(X_train, y_train),'\\n')\n",
    "\n",
    "# predicting values\n",
    "y_pred_knn = model_knn.predict(X_test)\n",
    "\n",
    "# checking evaluation metrics\n",
    "print('R^2 score for X_test:', model_knn.score(X_test, y_test))\n",
    "print('MSE:', mean_squared_error(y_test,y_pred_knn))\n",
    "print('RMSE:', mean_squared_error(y_test,y_pred_knn, squared=False))\n",
    "print('MAPE:',mape(y_test,y_pred_knn))\n",
    "print('RMSLE:',(mean_squared_log_error(y_test, y_pred_knn)**0.5),'\\n')\n",
    "\n",
    "\n",
    "# Testing with weights on distance\n",
    "    \n",
    "model_knn_w = KNeighborsRegressor(n_neighbors=19, weights='distance')\n",
    "model_knn_w.fit(X_train, y_train)\n",
    "print('R^2 score for X_train with weighted distance:', model_knn_w.score(X_train, y_train),'\\n')\n",
    "\n",
    "# predicting values\n",
    "y_pred_knn_w = model_knn_w.predict(X_test)\n",
    "\n",
    "# checking evaluation metrics\n",
    "print('R^2 score for X_test with weighted distance:', model_knn_w.score(X_test, y_test))\n",
    "print('MSE:', mean_squared_error(y_test,y_pred_knn_w))\n",
    "print('RMSE:', mean_squared_error(y_test,y_pred_knn_w, squared=False))\n",
    "print('MAPE:',mape(y_test,y_pred_knn_w))\n",
    "print('RMSLE:',(mean_squared_log_error(y_test, y_pred_knn_w)**0.5),'\\n')"
   ]
  },
  {
   "cell_type": "code",
   "execution_count": 34,
   "metadata": {},
   "outputs": [
    {
     "data": {
      "text/plain": [
       "array([], dtype=float64)"
      ]
     },
     "execution_count": 34,
     "metadata": {},
     "output_type": "execute_result"
    }
   ],
   "source": [
    "y_pred_knn[y_pred_knn<0]"
   ]
  },
  {
   "cell_type": "code",
   "execution_count": 33,
   "metadata": {},
   "outputs": [
    {
     "data": {
      "image/png": "[encoded data removed]",
      "text/plain": [
       "<Figure size 432x288 with 1 Axes>"
      ]
     },
     "metadata": {
      "needs_background": "light"
     },
     "output_type": "display_data"
    },
    {
     "data": {
      "image/png": "[encoded data removed]",
      "text/plain": [
       "<Figure size 432x288 with 1 Axes>"
      ]
     },
     "metadata": {
      "needs_background": "light"
     },
     "output_type": "display_data"
    }
   ],
   "source": [
    "# Checking predictions\n",
    "plt.scatter(y_test,y_pred_knn)\n",
    "plt.title('Prediction Linearity')\n",
    "plt.show()\n",
    "\n",
    "# Checking residuals\n",
    "resid=y_test-y_pred_knn\n",
    "\n",
    "sns.distplot(resid)\n",
    "plt.title('Distribution of residuals')\n",
    "plt.show()"
   ]
  },
  {
   "cell_type": "markdown",
   "metadata": {},
   "source": [
    "____________________\n",
    "### RandomForest"
   ]
  },
  {
   "cell_type": "code",
   "execution_count": 39,
   "metadata": {},
   "outputs": [
    {
     "name": "stdout",
     "output_type": "stream",
     "text": [
      "R^2 score for X_train: 0.8327332395707696 \n",
      "\n",
      "R^2 score for X_test: 0.49465441834529617\n",
      "MSE: 0.16075307609077563\n",
      "RMSE: 0.4009402400492817\n",
      "MAPE: 29.009006817897582\n",
      "RMSLE: 0.17752139426481037 \n",
      "\n",
      "R^2 score for X_train: 0.8345585380667571 \n",
      "\n",
      "R^2 score for X_test: 0.4982702302694402\n",
      "MSE: 0.15960286738118604\n",
      "RMSE: 0.3995032758078287\n",
      "MAPE: 28.956516288454942\n",
      "RMSLE: 0.17699444093537317 \n",
      "\n"
     ]
    }
   ],
   "source": [
    "# Testing Random Forest \n",
    "\n",
    "    # building the model with default estimator\n",
    "    \n",
    "model_rf = RandomForestRegressor()\n",
    "model_rf.fit(X_train, y_train)\n",
    "print(\"R^2 score for X_train:\", model_rf.score(X_train, y_train),'\\n')\n",
    "\n",
    "# predicting values \n",
    "y_pred_rf = model_rf.predict(X_test)\n",
    "\n",
    "# checking evaluation metrics\n",
    "print('R^2 score for X_test:', model_rf.score(X_test, y_test))\n",
    "print('MSE:', mean_squared_error(y_test,y_pred_rf))\n",
    "print('RMSE:', mean_squared_error(y_test,y_pred_rf, squared=False))\n",
    "print('MAPE:',mape(y_test,y_pred_rf))\n",
    "print('RMSLE:',(mean_squared_log_error(y_test, y_pred_rf)**0.5),'\\n')\n",
    "\n",
    "\n",
    "    # building the model with estimator = 1000\n",
    "    \n",
    "model_rf_2 = RandomForestRegressor(n_estimators=1000)\n",
    "model_rf_2.fit(X_train, y_train)\n",
    "print(\"R^2 score for X_train:\", model_rf_2.score(X_train, y_train),'\\n')\n",
    "\n",
    "# predicting values \n",
    "y_pred_rf_2 = model_rf_2.predict(X_test)\n",
    "\n",
    "# checking evaluation metrics\n",
    "print('R^2 score for X_test:', model_rf_2.score(X_test, y_test))\n",
    "print('MSE:', mean_squared_error(y_test,y_pred_rf_2))\n",
    "print('RMSE:', mean_squared_error(y_test,y_pred_rf_2, squared=False))\n",
    "print('MAPE:',mape(y_test,y_pred_rf_2))\n",
    "print('RMSLE:',(mean_squared_log_error(y_test, y_pred_rf_2)**0.5),'\\n')"
   ]
  },
  {
   "cell_type": "code",
   "execution_count": null,
   "metadata": {},
   "outputs": [],
   "source": [
    "plt.scatter(y_test,y_pred_rf)\n",
    "plt.title('Prediction Linearity')\n",
    "plt.show()\n",
    "\n",
    "# Checking residuals\n",
    "\n",
    "resid=y_test-y_pred_rf\n",
    "\n",
    "sns.distplot(resid)\n",
    "plt.title('Distribution of residuals')\n",
    "plt.show()"
   ]
  },
  {
   "cell_type": "code",
   "execution_count": 37,
   "metadata": {},
   "outputs": [
    {
     "name": "stdout",
     "output_type": "stream",
     "text": [
      "(62799, 21)\n"
     ]
    },
    {
     "data": {
      "text/html": [
       "<div>\n",
       "<style scoped>\n",
       "    .dataframe tbody tr th:only-of-type {\n",
       "        vertical-align: middle;\n",
       "    }\n",
       "\n",
       "    .dataframe tbody tr th {\n",
       "        vertical-align: top;\n",
       "    }\n",
       "\n",
       "    .dataframe thead th {\n",
       "        text-align: right;\n",
       "    }\n",
       "</style>\n",
       "<table border=\"1\" class=\"dataframe\">\n",
       "  <thead>\n",
       "    <tr style=\"text-align: right;\">\n",
       "      <th></th>\n",
       "      <th>host_response_time</th>\n",
       "      <th>host_response_rate</th>\n",
       "      <th>host_is_superhost</th>\n",
       "      <th>host_identity_verified</th>\n",
       "      <th>neighbourhood_cleansed</th>\n",
       "      <th>property_type</th>\n",
       "      <th>room_type</th>\n",
       "      <th>accommodates</th>\n",
       "      <th>bathrooms</th>\n",
       "      <th>bedrooms</th>\n",
       "      <th>...</th>\n",
       "      <th>price</th>\n",
       "      <th>guests_included</th>\n",
       "      <th>extra_people</th>\n",
       "      <th>availability_365</th>\n",
       "      <th>number_of_reviews</th>\n",
       "      <th>instant_bookable</th>\n",
       "      <th>cancellation_policy</th>\n",
       "      <th>calculated_host_listings_count_private_rooms</th>\n",
       "      <th>calculated_host_listings_count_shared_rooms</th>\n",
       "      <th>time_since_host</th>\n",
       "    </tr>\n",
       "  </thead>\n",
       "  <tbody>\n",
       "    <tr>\n",
       "      <th>0</th>\n",
       "      <td>within an hour</td>\n",
       "      <td>75-100%</td>\n",
       "      <td>0</td>\n",
       "      <td>0</td>\n",
       "      <td>Bourse</td>\n",
       "      <td>Apartment</td>\n",
       "      <td>Entire home/apt</td>\n",
       "      <td>0.466667</td>\n",
       "      <td>0.666667</td>\n",
       "      <td>0.75</td>\n",
       "      <td>...</td>\n",
       "      <td>2.56</td>\n",
       "      <td>0.333333</td>\n",
       "      <td>0.110701</td>\n",
       "      <td>0.778082</td>\n",
       "      <td>0.034360</td>\n",
       "      <td>1</td>\n",
       "      <td>strict_14_with_grace_period</td>\n",
       "      <td>0</td>\n",
       "      <td>0</td>\n",
       "      <td>0.419394</td>\n",
       "    </tr>\n",
       "    <tr>\n",
       "      <th>1</th>\n",
       "      <td>within an hour</td>\n",
       "      <td>75-100%</td>\n",
       "      <td>0</td>\n",
       "      <td>0</td>\n",
       "      <td>Temple</td>\n",
       "      <td>Apartment</td>\n",
       "      <td>Entire home/apt</td>\n",
       "      <td>0.133333</td>\n",
       "      <td>0.333333</td>\n",
       "      <td>0.25</td>\n",
       "      <td>...</td>\n",
       "      <td>0.85</td>\n",
       "      <td>0.000000</td>\n",
       "      <td>0.000000</td>\n",
       "      <td>0.013699</td>\n",
       "      <td>0.017773</td>\n",
       "      <td>0</td>\n",
       "      <td>moderate</td>\n",
       "      <td>0</td>\n",
       "      <td>0</td>\n",
       "      <td>0.058622</td>\n",
       "    </tr>\n",
       "    <tr>\n",
       "      <th>2</th>\n",
       "      <td>within an hour</td>\n",
       "      <td>75-100%</td>\n",
       "      <td>0</td>\n",
       "      <td>0</td>\n",
       "      <td>Bourse</td>\n",
       "      <td>Apartment</td>\n",
       "      <td>Entire home/apt</td>\n",
       "      <td>0.200000</td>\n",
       "      <td>0.333333</td>\n",
       "      <td>0.25</td>\n",
       "      <td>...</td>\n",
       "      <td>0.88</td>\n",
       "      <td>0.000000</td>\n",
       "      <td>0.000000</td>\n",
       "      <td>0.934247</td>\n",
       "      <td>0.000000</td>\n",
       "      <td>1</td>\n",
       "      <td>strict_14_with_grace_period</td>\n",
       "      <td>0</td>\n",
       "      <td>0</td>\n",
       "      <td>0.244993</td>\n",
       "    </tr>\n",
       "    <tr>\n",
       "      <th>3</th>\n",
       "      <td>within an hour</td>\n",
       "      <td>75-100%</td>\n",
       "      <td>0</td>\n",
       "      <td>0</td>\n",
       "      <td>Buttes-Montmartre</td>\n",
       "      <td>Apartment</td>\n",
       "      <td>Entire home/apt</td>\n",
       "      <td>0.066667</td>\n",
       "      <td>0.333333</td>\n",
       "      <td>0.25</td>\n",
       "      <td>...</td>\n",
       "      <td>0.92</td>\n",
       "      <td>0.000000</td>\n",
       "      <td>0.000000</td>\n",
       "      <td>0.084932</td>\n",
       "      <td>0.000000</td>\n",
       "      <td>0</td>\n",
       "      <td>flexible</td>\n",
       "      <td>0</td>\n",
       "      <td>0</td>\n",
       "      <td>0.438202</td>\n",
       "    </tr>\n",
       "    <tr>\n",
       "      <th>4</th>\n",
       "      <td>within a few hours</td>\n",
       "      <td>75-100%</td>\n",
       "      <td>0</td>\n",
       "      <td>1</td>\n",
       "      <td>Buttes-Montmartre</td>\n",
       "      <td>Apartment</td>\n",
       "      <td>Entire home/apt</td>\n",
       "      <td>0.066667</td>\n",
       "      <td>0.333333</td>\n",
       "      <td>0.00</td>\n",
       "      <td>...</td>\n",
       "      <td>0.85</td>\n",
       "      <td>0.000000</td>\n",
       "      <td>0.000000</td>\n",
       "      <td>0.854795</td>\n",
       "      <td>0.004739</td>\n",
       "      <td>0</td>\n",
       "      <td>flexible</td>\n",
       "      <td>0</td>\n",
       "      <td>0</td>\n",
       "      <td>0.292135</td>\n",
       "    </tr>\n",
       "  </tbody>\n",
       "</table>\n",
       "<p>5 rows × 21 columns</p>\n",
       "</div>"
      ],
      "text/plain": [
       "   host_response_time host_response_rate  host_is_superhost  \\\n",
       "0      within an hour            75-100%                  0   \n",
       "1      within an hour            75-100%                  0   \n",
       "2      within an hour            75-100%                  0   \n",
       "3      within an hour            75-100%                  0   \n",
       "4  within a few hours            75-100%                  0   \n",
       "\n",
       "   host_identity_verified neighbourhood_cleansed property_type  \\\n",
       "0                       0                 Bourse     Apartment   \n",
       "1                       0                 Temple     Apartment   \n",
       "2                       0                 Bourse     Apartment   \n",
       "3                       0      Buttes-Montmartre     Apartment   \n",
       "4                       1      Buttes-Montmartre     Apartment   \n",
       "\n",
       "         room_type  accommodates  bathrooms  bedrooms  ... price  \\\n",
       "0  Entire home/apt      0.466667   0.666667      0.75  ...  2.56   \n",
       "1  Entire home/apt      0.133333   0.333333      0.25  ...  0.85   \n",
       "2  Entire home/apt      0.200000   0.333333      0.25  ...  0.88   \n",
       "3  Entire home/apt      0.066667   0.333333      0.25  ...  0.92   \n",
       "4  Entire home/apt      0.066667   0.333333      0.00  ...  0.85   \n",
       "\n",
       "   guests_included  extra_people  availability_365  number_of_reviews  \\\n",
       "0         0.333333      0.110701          0.778082           0.034360   \n",
       "1         0.000000      0.000000          0.013699           0.017773   \n",
       "2         0.000000      0.000000          0.934247           0.000000   \n",
       "3         0.000000      0.000000          0.084932           0.000000   \n",
       "4         0.000000      0.000000          0.854795           0.004739   \n",
       "\n",
       "   instant_bookable          cancellation_policy  \\\n",
       "0                 1  strict_14_with_grace_period   \n",
       "1                 0                     moderate   \n",
       "2                 1  strict_14_with_grace_period   \n",
       "3                 0                     flexible   \n",
       "4                 0                     flexible   \n",
       "\n",
       "  calculated_host_listings_count_private_rooms  \\\n",
       "0                                            0   \n",
       "1                                            0   \n",
       "2                                            0   \n",
       "3                                            0   \n",
       "4                                            0   \n",
       "\n",
       "   calculated_host_listings_count_shared_rooms  time_since_host  \n",
       "0                                            0         0.419394  \n",
       "1                                            0         0.058622  \n",
       "2                                            0         0.244993  \n",
       "3                                            0         0.438202  \n",
       "4                                            0         0.292135  \n",
       "\n",
       "[5 rows x 21 columns]"
      ]
     },
     "execution_count": 37,
     "metadata": {},
     "output_type": "execute_result"
    }
   ],
   "source": [
    "df_original = pd.read_csv('../data/airbnb_paris_clean_wo_dummies_feat.csv')\n",
    "print(df_original.shape)\n",
    "df_original.head()"
   ]
  },
  {
   "cell_type": "code",
   "execution_count": 38,
   "metadata": {},
   "outputs": [
    {
     "ename": "ValueError",
     "evalue": "could not convert string to float: 'None'",
     "output_type": "error",
     "traceback": [
      "\u001b[0;31m---------------------------------------------------------------------------\u001b[0m",
      "\u001b[0;31mValueError\u001b[0m                                Traceback (most recent call last)",
      "\u001b[0;32m<ipython-input-38-a0cad34318f8>\u001b[0m in \u001b[0;36m<module>\u001b[0;34m\u001b[0m\n\u001b[1;32m      7\u001b[0m \u001b[0;31m# building the model\u001b[0m\u001b[0;34m\u001b[0m\u001b[0;34m\u001b[0m\u001b[0;34m\u001b[0m\u001b[0m\n\u001b[1;32m      8\u001b[0m \u001b[0mmodel_rf\u001b[0m \u001b[0;34m=\u001b[0m \u001b[0mRandomForestRegressor\u001b[0m\u001b[0;34m(\u001b[0m\u001b[0;34m)\u001b[0m\u001b[0;34m\u001b[0m\u001b[0;34m\u001b[0m\u001b[0m\n\u001b[0;32m----> 9\u001b[0;31m \u001b[0mmodel_rf\u001b[0m\u001b[0;34m.\u001b[0m\u001b[0mfit\u001b[0m\u001b[0;34m(\u001b[0m\u001b[0mX_train_orig\u001b[0m\u001b[0;34m,\u001b[0m \u001b[0my_train_orig\u001b[0m\u001b[0;34m)\u001b[0m\u001b[0;34m\u001b[0m\u001b[0;34m\u001b[0m\u001b[0m\n\u001b[0m\u001b[1;32m     10\u001b[0m \u001b[0mprint\u001b[0m\u001b[0;34m(\u001b[0m\u001b[0;34m\"R^2 score for X_train:\"\u001b[0m\u001b[0;34m,\u001b[0m \u001b[0mmodel_rf\u001b[0m\u001b[0;34m.\u001b[0m\u001b[0mscore\u001b[0m\u001b[0;34m(\u001b[0m\u001b[0mX_train_orig\u001b[0m\u001b[0;34m,\u001b[0m \u001b[0my_train_orig\u001b[0m\u001b[0;34m)\u001b[0m\u001b[0;34m,\u001b[0m\u001b[0;34m'\\n'\u001b[0m\u001b[0;34m)\u001b[0m\u001b[0;34m\u001b[0m\u001b[0;34m\u001b[0m\u001b[0m\n\u001b[1;32m     11\u001b[0m \u001b[0;34m\u001b[0m\u001b[0m\n",
      "\u001b[0;32m/opt/anaconda3/lib/python3.7/site-packages/sklearn/ensemble/_forest.py\u001b[0m in \u001b[0;36mfit\u001b[0;34m(self, X, y, sample_weight)\u001b[0m\n\u001b[1;32m    293\u001b[0m         \"\"\"\n\u001b[1;32m    294\u001b[0m         \u001b[0;31m# Validate or convert input data\u001b[0m\u001b[0;34m\u001b[0m\u001b[0;34m\u001b[0m\u001b[0;34m\u001b[0m\u001b[0m\n\u001b[0;32m--> 295\u001b[0;31m         \u001b[0mX\u001b[0m \u001b[0;34m=\u001b[0m \u001b[0mcheck_array\u001b[0m\u001b[0;34m(\u001b[0m\u001b[0mX\u001b[0m\u001b[0;34m,\u001b[0m \u001b[0maccept_sparse\u001b[0m\u001b[0;34m=\u001b[0m\u001b[0;34m\"csc\"\u001b[0m\u001b[0;34m,\u001b[0m \u001b[0mdtype\u001b[0m\u001b[0;34m=\u001b[0m\u001b[0mDTYPE\u001b[0m\u001b[0;34m)\u001b[0m\u001b[0;34m\u001b[0m\u001b[0;34m\u001b[0m\u001b[0m\n\u001b[0m\u001b[1;32m    296\u001b[0m         \u001b[0my\u001b[0m \u001b[0;34m=\u001b[0m \u001b[0mcheck_array\u001b[0m\u001b[0;34m(\u001b[0m\u001b[0my\u001b[0m\u001b[0;34m,\u001b[0m \u001b[0maccept_sparse\u001b[0m\u001b[0;34m=\u001b[0m\u001b[0;34m'csc'\u001b[0m\u001b[0;34m,\u001b[0m \u001b[0mensure_2d\u001b[0m\u001b[0;34m=\u001b[0m\u001b[0;32mFalse\u001b[0m\u001b[0;34m,\u001b[0m \u001b[0mdtype\u001b[0m\u001b[0;34m=\u001b[0m\u001b[0;32mNone\u001b[0m\u001b[0;34m)\u001b[0m\u001b[0;34m\u001b[0m\u001b[0;34m\u001b[0m\u001b[0m\n\u001b[1;32m    297\u001b[0m         \u001b[0;32mif\u001b[0m \u001b[0msample_weight\u001b[0m \u001b[0;32mis\u001b[0m \u001b[0;32mnot\u001b[0m \u001b[0;32mNone\u001b[0m\u001b[0;34m:\u001b[0m\u001b[0;34m\u001b[0m\u001b[0;34m\u001b[0m\u001b[0m\n",
      "\u001b[0;32m/opt/anaconda3/lib/python3.7/site-packages/sklearn/utils/validation.py\u001b[0m in \u001b[0;36mcheck_array\u001b[0;34m(array, accept_sparse, accept_large_sparse, dtype, order, copy, force_all_finite, ensure_2d, allow_nd, ensure_min_samples, ensure_min_features, warn_on_dtype, estimator)\u001b[0m\n\u001b[1;32m    529\u001b[0m                     \u001b[0marray\u001b[0m \u001b[0;34m=\u001b[0m \u001b[0marray\u001b[0m\u001b[0;34m.\u001b[0m\u001b[0mastype\u001b[0m\u001b[0;34m(\u001b[0m\u001b[0mdtype\u001b[0m\u001b[0;34m,\u001b[0m \u001b[0mcasting\u001b[0m\u001b[0;34m=\u001b[0m\u001b[0;34m\"unsafe\"\u001b[0m\u001b[0;34m,\u001b[0m \u001b[0mcopy\u001b[0m\u001b[0;34m=\u001b[0m\u001b[0;32mFalse\u001b[0m\u001b[0;34m)\u001b[0m\u001b[0;34m\u001b[0m\u001b[0;34m\u001b[0m\u001b[0m\n\u001b[1;32m    530\u001b[0m                 \u001b[0;32melse\u001b[0m\u001b[0;34m:\u001b[0m\u001b[0;34m\u001b[0m\u001b[0;34m\u001b[0m\u001b[0m\n\u001b[0;32m--> 531\u001b[0;31m                     \u001b[0marray\u001b[0m \u001b[0;34m=\u001b[0m \u001b[0mnp\u001b[0m\u001b[0;34m.\u001b[0m\u001b[0masarray\u001b[0m\u001b[0;34m(\u001b[0m\u001b[0marray\u001b[0m\u001b[0;34m,\u001b[0m \u001b[0morder\u001b[0m\u001b[0;34m=\u001b[0m\u001b[0morder\u001b[0m\u001b[0;34m,\u001b[0m \u001b[0mdtype\u001b[0m\u001b[0;34m=\u001b[0m\u001b[0mdtype\u001b[0m\u001b[0;34m)\u001b[0m\u001b[0;34m\u001b[0m\u001b[0;34m\u001b[0m\u001b[0m\n\u001b[0m\u001b[1;32m    532\u001b[0m             \u001b[0;32mexcept\u001b[0m \u001b[0mComplexWarning\u001b[0m\u001b[0;34m:\u001b[0m\u001b[0;34m\u001b[0m\u001b[0;34m\u001b[0m\u001b[0m\n\u001b[1;32m    533\u001b[0m                 raise ValueError(\"Complex data not supported\\n\"\n",
      "\u001b[0;32m/opt/anaconda3/lib/python3.7/site-packages/numpy/core/_asarray.py\u001b[0m in \u001b[0;36masarray\u001b[0;34m(a, dtype, order)\u001b[0m\n\u001b[1;32m     83\u001b[0m \u001b[0;34m\u001b[0m\u001b[0m\n\u001b[1;32m     84\u001b[0m     \"\"\"\n\u001b[0;32m---> 85\u001b[0;31m     \u001b[0;32mreturn\u001b[0m \u001b[0marray\u001b[0m\u001b[0;34m(\u001b[0m\u001b[0ma\u001b[0m\u001b[0;34m,\u001b[0m \u001b[0mdtype\u001b[0m\u001b[0;34m,\u001b[0m \u001b[0mcopy\u001b[0m\u001b[0;34m=\u001b[0m\u001b[0;32mFalse\u001b[0m\u001b[0;34m,\u001b[0m \u001b[0morder\u001b[0m\u001b[0;34m=\u001b[0m\u001b[0morder\u001b[0m\u001b[0;34m)\u001b[0m\u001b[0;34m\u001b[0m\u001b[0;34m\u001b[0m\u001b[0m\n\u001b[0m\u001b[1;32m     86\u001b[0m \u001b[0;34m\u001b[0m\u001b[0m\n\u001b[1;32m     87\u001b[0m \u001b[0;34m\u001b[0m\u001b[0m\n",
      "\u001b[0;31mValueError\u001b[0m: could not convert string to float: 'None'"
     ]
    }
   ],
   "source": [
    "# Building samples\n",
    "X_orig = df_original.drop('price',axis=1)\n",
    "y_orig = df_original.price\n",
    "\n",
    "X_train_orig, X_test_orig, y_train_orig, y_test_orig = train_test_split(X_orig, y_orig, test_size=0.3, random_state=8)\n",
    "\n",
    "# building the model \n",
    "model_rf = RandomForestRegressor()\n",
    "model_rf.fit(X_train_orig, y_train_orig)\n",
    "print(\"R^2 score for X_train:\", model_rf.score(X_train_orig, y_train_orig),'\\n')\n",
    "\n",
    "# predicting values \n",
    "y_pred_rf = model_rf.predict(X_test_orig)\n",
    "\n",
    "# checking evaluation metrics\n",
    "print('R^2 score for X_test:', model_rf.score(X_test_orig, y_test_orig))\n",
    "print('MSE:', mean_squared_error(y_test_orig,y_pred_rf))\n",
    "print('RMSE:', mean_squared_error(y_test_orig,y_pred_rf, squared=False))\n",
    "print('MAPE:',mape(y_test_orig,y_pred_rf))\n",
    "print('RMSLE:',(mean_squared_log_error(y_test_orig, y_pred_rf)**0.5),'\\n')\n",
    "\n"
   ]
  },
  {
   "cell_type": "markdown",
   "metadata": {},
   "source": [
    "### Comments\n",
    "\n",
    "- At first sight Linear Regression and KNeighbors are the best model because they have almost the same result, although Linear Regression it is not overfitted (from the beginning), but all assumptions aren't met.\n",
    "- In the meantime, the Linear Regression predicted negative values (is it wrong?)\n",
    "- The models seems to be overfitted on the trained sample for KNN and Random Forest models even though I managed to reduce the overfitting in KNN by increasing the number of neighbors\n",
    "- The RMSE score doble from MSE that it is due to outliers still in the dataset\n",
    "\n",
    "**Possible improvements:**\n",
    "- Try Random Forest with dataset without dummies\n",
    "- Try other preprocessing methods (Sequential Selection, PCA and other scaling) to improve the resutls\n",
    "- Try Embedded feature engineering methods (Lasso)\n",
    "\n",
    "**Next Steps:**\n",
    "- ~~Check why there are negative values in prediction values~~\n",
    "- ~~Change scaling method for Price~~\n",
    "- ~~Confirm the overfitting of models~~\n",
    "- Fix Random Forest without dummies\n",
    "- ~~Try Random Forest with an estimator = 1000~~\n",
    "- ~~Build a for loop to find the best n_neighbors for KNN (between 3 and 21)~~\n",
    "- Check assumptions of each models"
   ]
  },
  {
   "cell_type": "code",
   "execution_count": null,
   "metadata": {},
   "outputs": [],
   "source": []
  }
 ],
 "metadata": {
  "kernelspec": {
   "display_name": "Python 3",
   "language": "python",
   "name": "python3"
  },
  "language_info": {
   "codemirror_mode": {
    "name": "ipython",
    "version": 3
   },
   "file_extension": ".py",
   "mimetype": "text/x-python",
   "name": "python",
   "nbconvert_exporter": "python",
   "pygments_lexer": "ipython3",
   "version": "3.7.4"
  }
 },
 "nbformat": 4,
 "nbformat_minor": 2
}
